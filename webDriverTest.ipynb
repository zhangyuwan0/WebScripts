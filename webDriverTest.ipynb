{
 "cells": [
  {
   "cell_type": "code",
   "execution_count": 8,
   "metadata": {
    "collapsed": false
   },
   "outputs": [
    {
     "name": "stdout",
     "output_type": "stream",
     "text": [
      "[{'value': '1474616182', 'secure': False, 'httponly': False, 'domain': '.rc.hanvon.com', 'path': '/', 'name': 'Hm_lpvt_4c8be966697649d1191e0cfabcb9ea64'}, {'value': '1474616166,1474616175,1474616182', 'path': '/', 'expiry': 1506152182, 'httponly': False, 'domain': '.rc.hanvon.com', 'expires': '周六, 23 九月 2017 07:36:22 GMT', 'secure': False, 'name': 'Hm_lvt_4c8be966697649d1191e0cfabcb9ea64'}, {'value': 'F8200AD0ADDFAEAE5EA3EFE14903440E', 'secure': False, 'httponly': False, 'domain': 'rc.hanvon.com', 'path': '/', 'name': 'JSESSIONID'}]\n"
     ]
    }
   ],
   "source": [
    "from selenium import webdriver\n",
    "targetURL = r\"http://rc.hanvon.com/rc/rapid\"\n",
    "driver = webdriver.PhantomJS(executable_path= r\"D:\\program Files\\phantomjs-2.1.1-windows\\bin\\phantomjs.exe\")\n",
    "driver.get(targetURL)\n",
    "driver.implicitly_wait(1)\n",
    "print(driver.get_cookies())"
   ]
  },
  {
   "cell_type": "code",
   "execution_count": null,
   "metadata": {
    "collapsed": true
   },
   "outputs": [],
   "source": []
  }
 ],
 "metadata": {
  "kernelspec": {
   "display_name": "Python 3",
   "language": "python",
   "name": "python3"
  },
  "language_info": {
   "codemirror_mode": {
    "name": "ipython",
    "version": 3
   },
   "file_extension": ".py",
   "mimetype": "text/x-python",
   "name": "python",
   "nbconvert_exporter": "python",
   "pygments_lexer": "ipython3",
   "version": "3.5.2"
  }
 },
 "nbformat": 4,
 "nbformat_minor": 1
}
