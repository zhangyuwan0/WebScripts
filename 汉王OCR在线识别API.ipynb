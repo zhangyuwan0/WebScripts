{
 "cells": [
  {
   "cell_type": "code",
   "execution_count": 1,
   "metadata": {
    "collapsed": false
   },
   "outputs": [],
   "source": [
    "import requests\n",
    "import json\n",
    "import os\n",
    "from selenium import webdriver"
   ]
  },
  {
   "cell_type": "code",
   "execution_count": 2,
   "metadata": {
    "collapsed": false
   },
   "outputs": [],
   "source": [
    "# 汉王OCR在线识别 URL\n",
    "targetURL = r\"http://rc.hanvon.com/rc/rapid\"\n",
    "# 汉王上传文件URL\n",
    "uploadURL = r\"http://rc.hanvon.com/file/single/upload\"\n",
    "recognitionURL = r\"http://rc.hanvon.com/file/rapid/recog\""
   ]
  },
  {
   "cell_type": "code",
   "execution_count": 3,
   "metadata": {
    "collapsed": false
   },
   "outputs": [],
   "source": [
    "# 通过get的方式获取cookie\n",
    "def getCookieWithGET(url):\n",
    "    # 使用 phantomJs(无前台的浏览器)作为驱动\n",
    "    driver = webdriver.PhantomJS(executable_path= r\"D:\\program Files\\phantomjs-2.1.1-windows\\bin\\phantomjs.exe\")\n",
    "    # get 汉王URL\n",
    "    driver.get(targetURL)\n",
    "    # 设置等待 使得javascript脚本得以执行完毕\n",
    "    driver.implicitly_wait(1)\n",
    "    # 获取cookie list\n",
    "    cookies = driver.get_cookies()\n",
    "    # 关闭驱动\n",
    "    driver.close()\n",
    "    return cookies"
   ]
  },
  {
   "cell_type": "code",
   "execution_count": 4,
   "metadata": {
    "collapsed": true
   },
   "outputs": [],
   "source": [
    "# 将cookie 换换成字典\n",
    "def convertCookie(list_cookies):\n",
    "    cookies = {}\n",
    "    for s in list_cookies:\n",
    "        cookies[s[\"name\"]] = s[\"value\"]"
   ]
  },
  {
   "cell_type": "code",
   "execution_count": 17,
   "metadata": {
    "collapsed": false
   },
   "outputs": [],
   "source": [
    "# 上传文件到汉王\n",
    "def uploadFile(url,filePath,cookies):\n",
    "    target_file = open(filePath, \"rb\")\n",
    "    file ={\"file\": target_file}\n",
    "    # 之前报http 400错误\n",
    "    #　解决过程：\n",
    "    \"\"\" 1.查看 Http 400错误的含义\n",
    "        2.查看description内容并搜索相关问题解决方案\n",
    "        3.发现是参数post参数与服务器参数不对称的问题\n",
    "        4.查看FileService.singleUploadFile函数中的XHR代码段\n",
    "        发现参数名不是\"uploadFile\"而是\"file\" \n",
    "        5.改变参数重试,问题解决！\"\"\"\n",
    "    headers = {\n",
    "        \"Accept\":\"text/html,application/xhtml+xml,application/xml;q=0.9,*/*;q=0.8\",\n",
    "        \"Accept-Encoding\":\"gzip, deflate\",\n",
    "        \"Accept-Language\":\"zh-CN,zh;q=0.8\",\n",
    "        \"Host\":\"rc.hanvon.com\",\n",
    "        \"Referer\":\"http://rc.hanvon.com/rc/rapid\",\n",
    "        \"User-Agent\":\"Mozilla/5.0 (Windows NT 6.1; WOW64) AppleWebKit/537.36 (KHTML, like Gecko) Chrome/53.0.2785.116 Safari/537.36\"\n",
    "    }\n",
    "    r = requests.post(url=url,headers=headers, files=file, cookies=cookies)\n",
    "    print(r.text)\n",
    "    # 关闭文件流\n",
    "    target_file.close()\n",
    "    # 转换返回的json\n",
    "    return json.loads(r.text)"
   ]
  },
  {
   "cell_type": "code",
   "execution_count": 6,
   "metadata": {
    "collapsed": true
   },
   "outputs": [],
   "source": [
    "# 请求API识别该图片\n",
    "def recognitionPicture(url, result_dict, cookies, docType = \"txt\"):\n",
    "    \"\"\"\n",
    "        url: 请求识别的url\n",
    "        result_dict: 上传文件回传参数字典\n",
    "        cookies: page cookie\n",
    "        docType: 识别后返回文件类型\n",
    "            txt - 文本文件\n",
    "            pdf - 可复制的PDF文档\n",
    "            rtf - mircosoft word 文档\n",
    "            xls - microsoft excel 文档\n",
    "    \"\"\"\n",
    "    # check 文件是否上传成功\n",
    "    if result_dict[\"result\"] != \"success\":\n",
    "        print(\"recognitionPicture method: the result was\" + result_dict[\"result\"])\n",
    "        raise ValueError\n",
    "        \n",
    "    headers = {\n",
    "        \"Accept\":\"application/json, text/plain, */*\",\n",
    "        \"Accept-Encoding\": \"gzip, deflate\",\n",
    "        \"Accept-Language\": \"zh-CN,zh;q=0.8,en-US;q=0.5,en;q=0.3\",\n",
    "        \"Content-Type\":\"application/json;charset=utf-8\",\n",
    "        \"Host\":\"rc.hanvon.com\",\n",
    "        \"Referer\":\"http://rc.hanvon.com/rc/rapid\",\n",
    "        \"User-Agent\":\"Mozilla/5.0 (Windows NT 6.1; WOW64; rv:49.0) Gecko/20100101 Firefox/49.0\"\n",
    "    }\n",
    "    # 填写文件请求\n",
    "    \"\"\" 之前BUG -> HTTP 415 \n",
    "        问题原因：post参数填写错误,没有将json_data填入到data\n",
    "        解决方法: 将填写在json参数的json_data改为填入到data参数中\n",
    "    \"\"\"\n",
    "    json_content = {\"fileType\":docType,\"fid\":result_dict[\"inFid\"],\"fileName\":result_dict[\"fileName\"]}\n",
    "    json_data = json.dumps(json_content)\n",
    "    # psot 识别请求\n",
    "    r = requests.post(url, headers=headers, data=json_data, cookies=cookies)\n",
    "    print(r.text)\n",
    "    return json.loads(r.text)\n",
    "    # 将返回结果转换为json"
   ]
  },
  {
   "cell_type": "code",
   "execution_count": 7,
   "metadata": {
    "collapsed": true
   },
   "outputs": [],
   "source": [
    "# 下载识别后文件\n",
    "def downloadResult(downloadFolder,result_dict, docType=\"txt\"):\n",
    "    downloadURL = r\"http://rc.hanvon.com/file/download?outFid={0}&flag=rapidRecog\".format(result_dict[\"fid\"])\n",
    "    print(downloadURL)\n",
    "    local_filename = result_dict[\"fileName\"].split(\".\")[0] + \".\" + docType\n",
    "    r = requests.get(downloadURL) # here we need to set stream = True parameter  \n",
    "    print(r.text)\n",
    "    if not os.path.exists(downloadFolder):\n",
    "        os.makedirs(downloadFolder)\n",
    "    with open(downloadFolder + local_filename, 'wb') as f:\n",
    "        # 之前错误 -> GBK 不能解码 r.text \n",
    "        # 解决方案 -> 直接写入二进制 然后以txt文件读取\n",
    "        f.write(r.content)\n",
    "    return local_filename "
   ]
  },
  {
   "cell_type": "code",
   "execution_count": 12,
   "metadata": {
    "collapsed": false
   },
   "outputs": [],
   "source": [
    "# 识别文件\n",
    "def convertPDFpicture(filePath, convertedFolder=\"results\\\\\", docType=\"txt\"):\n",
    "    # 第一步将PDF按页分解成多个图片\n",
    "    \n",
    "    # 第二步循环识别文件 并拼接到结果文档\n",
    "#     for xx in xx :\n",
    "    # 第一步：获取cookie 以便之后的操作\n",
    "#     cookies = convertCookie(getCookieWithGET(targetURL))\n",
    "    cookies = requests.get(\"http://rc.hanvon.com/rc/rapid\").cookies.get_dict()\n",
    "    # 第二步：向汉王服务器上传图片\n",
    "    result_dict = uploadFile(uploadURL, filePath, cookies)\n",
    "    # 第三步: 请求API识别该图片\n",
    "    result = recognitionPicture(recognitionURL,result_dict,cookies,docType)\n",
    "    # 第四步：下载文件\n",
    "    downloadResult(convertedFolder, result, docType)"
   ]
  },
  {
   "cell_type": "code",
   "execution_count": 18,
   "metadata": {
    "collapsed": false
   },
   "outputs": [
    {
     "name": "stdout",
     "output_type": "stream",
     "text": [
      "<html><head><title>Apache Tomcat/6.0.35 - Error report</title><style><!--H1 {font-family:Tahoma,Arial,sans-serif;color:white;background-color:#525D76;font-size:22px;} H2 {font-family:Tahoma,Arial,sans-serif;color:white;background-color:#525D76;font-size:16px;} H3 {font-family:Tahoma,Arial,sans-serif;color:white;background-color:#525D76;font-size:14px;} BODY {font-family:Tahoma,Arial,sans-serif;color:black;background-color:white;} B {font-family:Tahoma,Arial,sans-serif;color:white;background-color:#525D76;} P {font-family:Tahoma,Arial,sans-serif;background:white;color:black;font-size:12px;}A {color : black;}A.name {color : black;}HR {color : #525D76;}--></style> </head><body><h1>HTTP Status 500 - </h1><HR size=\"1\" noshade=\"noshade\"><p><b>type</b> Status report</p><p><b>message</b> <u></u></p><p><b>description</b> <u>The server encountered an internal error () that prevented it from fulfilling this request.</u></p><HR size=\"1\" noshade=\"noshade\"><h3>Apache Tomcat/6.0.35</h3></body></html>\n"
     ]
    },
    {
     "ename": "JSONDecodeError",
     "evalue": "Expecting value: line 1 column 1 (char 0)",
     "output_type": "error",
     "traceback": [
      "\u001b[0;31m---------------------------------------------------------------------------\u001b[0m",
      "\u001b[0;31mJSONDecodeError\u001b[0m                           Traceback (most recent call last)",
      "\u001b[0;32m<ipython-input-18-5dbb32e2e287>\u001b[0m in \u001b[0;36m<module>\u001b[0;34m()\u001b[0m\n\u001b[0;32m----> 1\u001b[0;31m \u001b[0mconvertPDFpicture\u001b[0m\u001b[1;33m(\u001b[0m\u001b[1;34mr\"C:\\Users\\Administrator\\Desktop\\未命名.jpg\"\u001b[0m\u001b[1;33m)\u001b[0m\u001b[1;33m\u001b[0m\u001b[0m\n\u001b[0m",
      "\u001b[0;32m<ipython-input-12-e675b405c3b2>\u001b[0m in \u001b[0;36mconvertPDFpicture\u001b[0;34m(filePath, convertedFolder, docType)\u001b[0m\n\u001b[1;32m      9\u001b[0m     \u001b[0mcookies\u001b[0m \u001b[1;33m=\u001b[0m \u001b[0mrequests\u001b[0m\u001b[1;33m.\u001b[0m\u001b[0mget\u001b[0m\u001b[1;33m(\u001b[0m\u001b[1;34m\"http://rc.hanvon.com/rc/rapid\"\u001b[0m\u001b[1;33m)\u001b[0m\u001b[1;33m.\u001b[0m\u001b[0mcookies\u001b[0m\u001b[1;33m.\u001b[0m\u001b[0mget_dict\u001b[0m\u001b[1;33m(\u001b[0m\u001b[1;33m)\u001b[0m\u001b[1;33m\u001b[0m\u001b[0m\n\u001b[1;32m     10\u001b[0m     \u001b[1;31m# 第二步：向汉王服务器上传图片\u001b[0m\u001b[1;33m\u001b[0m\u001b[1;33m\u001b[0m\u001b[0m\n\u001b[0;32m---> 11\u001b[0;31m     \u001b[0mresult_dict\u001b[0m \u001b[1;33m=\u001b[0m \u001b[0muploadFile\u001b[0m\u001b[1;33m(\u001b[0m\u001b[0muploadURL\u001b[0m\u001b[1;33m,\u001b[0m \u001b[0mfilePath\u001b[0m\u001b[1;33m,\u001b[0m \u001b[0mcookies\u001b[0m\u001b[1;33m)\u001b[0m\u001b[1;33m\u001b[0m\u001b[0m\n\u001b[0m\u001b[1;32m     12\u001b[0m     \u001b[1;31m# 第三步: 请求API识别该图片\u001b[0m\u001b[1;33m\u001b[0m\u001b[1;33m\u001b[0m\u001b[0m\n\u001b[1;32m     13\u001b[0m     \u001b[0mresult\u001b[0m \u001b[1;33m=\u001b[0m \u001b[0mrecognitionPicture\u001b[0m\u001b[1;33m(\u001b[0m\u001b[0mrecognitionURL\u001b[0m\u001b[1;33m,\u001b[0m\u001b[0mresult_dict\u001b[0m\u001b[1;33m,\u001b[0m\u001b[0mcookies\u001b[0m\u001b[1;33m,\u001b[0m\u001b[0mdocType\u001b[0m\u001b[1;33m)\u001b[0m\u001b[1;33m\u001b[0m\u001b[0m\n",
      "\u001b[0;32m<ipython-input-17-a87ca66385ae>\u001b[0m in \u001b[0;36muploadFile\u001b[0;34m(url, filePath, cookies)\u001b[0m\n\u001b[1;32m     24\u001b[0m     \u001b[0mtarget_file\u001b[0m\u001b[1;33m.\u001b[0m\u001b[0mclose\u001b[0m\u001b[1;33m(\u001b[0m\u001b[1;33m)\u001b[0m\u001b[1;33m\u001b[0m\u001b[0m\n\u001b[1;32m     25\u001b[0m     \u001b[1;31m# 转换返回的json\u001b[0m\u001b[1;33m\u001b[0m\u001b[1;33m\u001b[0m\u001b[0m\n\u001b[0;32m---> 26\u001b[0;31m     \u001b[1;32mreturn\u001b[0m \u001b[0mjson\u001b[0m\u001b[1;33m.\u001b[0m\u001b[0mloads\u001b[0m\u001b[1;33m(\u001b[0m\u001b[0mr\u001b[0m\u001b[1;33m.\u001b[0m\u001b[0mtext\u001b[0m\u001b[1;33m)\u001b[0m\u001b[1;33m\u001b[0m\u001b[0m\n\u001b[0m",
      "\u001b[0;32mC:\\Users\\Administrator\\AppData\\Local\\Programs\\Python\\Python35-32\\lib\\json\\__init__.py\u001b[0m in \u001b[0;36mloads\u001b[0;34m(s, encoding, cls, object_hook, parse_float, parse_int, parse_constant, object_pairs_hook, **kw)\u001b[0m\n\u001b[1;32m    317\u001b[0m             \u001b[0mparse_int\u001b[0m \u001b[1;32mis\u001b[0m \u001b[1;32mNone\u001b[0m \u001b[1;32mand\u001b[0m \u001b[0mparse_float\u001b[0m \u001b[1;32mis\u001b[0m \u001b[1;32mNone\u001b[0m \u001b[1;32mand\u001b[0m\u001b[1;33m\u001b[0m\u001b[0m\n\u001b[1;32m    318\u001b[0m             parse_constant is None and object_pairs_hook is None and not kw):\n\u001b[0;32m--> 319\u001b[0;31m         \u001b[1;32mreturn\u001b[0m \u001b[0m_default_decoder\u001b[0m\u001b[1;33m.\u001b[0m\u001b[0mdecode\u001b[0m\u001b[1;33m(\u001b[0m\u001b[0ms\u001b[0m\u001b[1;33m)\u001b[0m\u001b[1;33m\u001b[0m\u001b[0m\n\u001b[0m\u001b[1;32m    320\u001b[0m     \u001b[1;32mif\u001b[0m \u001b[0mcls\u001b[0m \u001b[1;32mis\u001b[0m \u001b[1;32mNone\u001b[0m\u001b[1;33m:\u001b[0m\u001b[1;33m\u001b[0m\u001b[0m\n\u001b[1;32m    321\u001b[0m         \u001b[0mcls\u001b[0m \u001b[1;33m=\u001b[0m \u001b[0mJSONDecoder\u001b[0m\u001b[1;33m\u001b[0m\u001b[0m\n",
      "\u001b[0;32mC:\\Users\\Administrator\\AppData\\Local\\Programs\\Python\\Python35-32\\lib\\json\\decoder.py\u001b[0m in \u001b[0;36mdecode\u001b[0;34m(self, s, _w)\u001b[0m\n\u001b[1;32m    337\u001b[0m \u001b[1;33m\u001b[0m\u001b[0m\n\u001b[1;32m    338\u001b[0m         \"\"\"\n\u001b[0;32m--> 339\u001b[0;31m         \u001b[0mobj\u001b[0m\u001b[1;33m,\u001b[0m \u001b[0mend\u001b[0m \u001b[1;33m=\u001b[0m \u001b[0mself\u001b[0m\u001b[1;33m.\u001b[0m\u001b[0mraw_decode\u001b[0m\u001b[1;33m(\u001b[0m\u001b[0ms\u001b[0m\u001b[1;33m,\u001b[0m \u001b[0midx\u001b[0m\u001b[1;33m=\u001b[0m\u001b[0m_w\u001b[0m\u001b[1;33m(\u001b[0m\u001b[0ms\u001b[0m\u001b[1;33m,\u001b[0m \u001b[1;36m0\u001b[0m\u001b[1;33m)\u001b[0m\u001b[1;33m.\u001b[0m\u001b[0mend\u001b[0m\u001b[1;33m(\u001b[0m\u001b[1;33m)\u001b[0m\u001b[1;33m)\u001b[0m\u001b[1;33m\u001b[0m\u001b[0m\n\u001b[0m\u001b[1;32m    340\u001b[0m         \u001b[0mend\u001b[0m \u001b[1;33m=\u001b[0m \u001b[0m_w\u001b[0m\u001b[1;33m(\u001b[0m\u001b[0ms\u001b[0m\u001b[1;33m,\u001b[0m \u001b[0mend\u001b[0m\u001b[1;33m)\u001b[0m\u001b[1;33m.\u001b[0m\u001b[0mend\u001b[0m\u001b[1;33m(\u001b[0m\u001b[1;33m)\u001b[0m\u001b[1;33m\u001b[0m\u001b[0m\n\u001b[1;32m    341\u001b[0m         \u001b[1;32mif\u001b[0m \u001b[0mend\u001b[0m \u001b[1;33m!=\u001b[0m \u001b[0mlen\u001b[0m\u001b[1;33m(\u001b[0m\u001b[0ms\u001b[0m\u001b[1;33m)\u001b[0m\u001b[1;33m:\u001b[0m\u001b[1;33m\u001b[0m\u001b[0m\n",
      "\u001b[0;32mC:\\Users\\Administrator\\AppData\\Local\\Programs\\Python\\Python35-32\\lib\\json\\decoder.py\u001b[0m in \u001b[0;36mraw_decode\u001b[0;34m(self, s, idx)\u001b[0m\n\u001b[1;32m    355\u001b[0m             \u001b[0mobj\u001b[0m\u001b[1;33m,\u001b[0m \u001b[0mend\u001b[0m \u001b[1;33m=\u001b[0m \u001b[0mself\u001b[0m\u001b[1;33m.\u001b[0m\u001b[0mscan_once\u001b[0m\u001b[1;33m(\u001b[0m\u001b[0ms\u001b[0m\u001b[1;33m,\u001b[0m \u001b[0midx\u001b[0m\u001b[1;33m)\u001b[0m\u001b[1;33m\u001b[0m\u001b[0m\n\u001b[1;32m    356\u001b[0m         \u001b[1;32mexcept\u001b[0m \u001b[0mStopIteration\u001b[0m \u001b[1;32mas\u001b[0m \u001b[0merr\u001b[0m\u001b[1;33m:\u001b[0m\u001b[1;33m\u001b[0m\u001b[0m\n\u001b[0;32m--> 357\u001b[0;31m             \u001b[1;32mraise\u001b[0m \u001b[0mJSONDecodeError\u001b[0m\u001b[1;33m(\u001b[0m\u001b[1;34m\"Expecting value\"\u001b[0m\u001b[1;33m,\u001b[0m \u001b[0ms\u001b[0m\u001b[1;33m,\u001b[0m \u001b[0merr\u001b[0m\u001b[1;33m.\u001b[0m\u001b[0mvalue\u001b[0m\u001b[1;33m)\u001b[0m \u001b[1;32mfrom\u001b[0m \u001b[1;32mNone\u001b[0m\u001b[1;33m\u001b[0m\u001b[0m\n\u001b[0m\u001b[1;32m    358\u001b[0m         \u001b[1;32mreturn\u001b[0m \u001b[0mobj\u001b[0m\u001b[1;33m,\u001b[0m \u001b[0mend\u001b[0m\u001b[1;33m\u001b[0m\u001b[0m\n",
      "\u001b[0;31mJSONDecodeError\u001b[0m: Expecting value: line 1 column 1 (char 0)"
     ]
    }
   ],
   "source": [
    "convertPDFpicture(r\"C:\\Users\\Administrator\\Desktop\\未命名.jpg\")"
   ]
  }
 ],
 "metadata": {
  "kernelspec": {
   "display_name": "Python 3",
   "language": "python",
   "name": "python3"
  },
  "language_info": {
   "codemirror_mode": {
    "name": "ipython",
    "version": 3
   },
   "file_extension": ".py",
   "mimetype": "text/x-python",
   "name": "python",
   "nbconvert_exporter": "python",
   "pygments_lexer": "ipython3",
   "version": "3.5.2"
  }
 },
 "nbformat": 4,
 "nbformat_minor": 1
}
