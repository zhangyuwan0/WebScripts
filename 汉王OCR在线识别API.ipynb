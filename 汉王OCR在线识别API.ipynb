{
 "cells": [
  {
   "cell_type": "code",
   "execution_count": 35,
   "metadata": {
    "collapsed": false
   },
   "outputs": [],
   "source": [
    "import requests\n",
    "import json\n",
    "import os\n",
    "from selenium import webdriver"
   ]
  },
  {
   "cell_type": "code",
   "execution_count": 2,
   "metadata": {
    "collapsed": false
   },
   "outputs": [],
   "source": [
    "# 汉王OCR在线识别 URL\n",
    "targetURL = r\"http://rc.hanvon.com/rc/rapid\"\n",
    "# 汉王上传文件URL\n",
    "uploadURL = r\"http://rc.hanvon.com/file/single/upload\"\n",
    "recognitionURL = r\"http://rc.hanvon.com/file/rapid/recog\""
   ]
  },
  {
   "cell_type": "code",
   "execution_count": 4,
   "metadata": {
    "collapsed": false
   },
   "outputs": [],
   "source": [
    "# 通过get的方式获取cookie\n",
    "def getCookieWithGET(url):\n",
    "    # 使用 phantomJs(无前台的浏览器)作为驱动\n",
    "    driver = webdriver.PhantomJS(executable_path= r\"D:\\program Files\\phantomjs-2.1.1-windows\\bin\\phantomjs.exe\")\n",
    "    # get 汉王URL\n",
    "    driver.get(targetURL)\n",
    "    # 设置等待 使得javascript脚本得以执行完毕\n",
    "    driver.implicitly_wait(1)\n",
    "    # 获取cookie list\n",
    "    cookies = driver.get_cookies()\n",
    "    # 关闭驱动\n",
    "    driver.close()\n",
    "    return cookies"
   ]
  },
  {
   "cell_type": "code",
   "execution_count": 6,
   "metadata": {
    "collapsed": true
   },
   "outputs": [],
   "source": [
    "# 将cookie 换换成字典\n",
    "def convertCookie(list_cookies):\n",
    "    cookies = {}\n",
    "    for s in list_cookies:\n",
    "        cookies[s[\"name\"]] = s[\"value\"]"
   ]
  },
  {
   "cell_type": "code",
   "execution_count": 11,
   "metadata": {
    "collapsed": false
   },
   "outputs": [],
   "source": [
    "# 上传文件到汉王\n",
    "def uploadFile(url,filePath,cookies):\n",
    "    target_file = open(filePath, \"rb\")\n",
    "    file ={\"file\": target_file}\n",
    "    # 之前报http 400错误\n",
    "    #　解决过程：\n",
    "    \"\"\" 1.查看 Http 400错误的含义\n",
    "        2.查看description内容并搜索相关问题解决方案\n",
    "        3.发现是参数post参数与服务器参数不对称的问题\n",
    "        4.查看FileService.singleUploadFile函数中的XHR代码段\n",
    "        发现参数名不是\"uploadFile\"而是\"file\" \n",
    "        5.改变参数重试,问题解决！\"\"\"\n",
    "    r = requests.post(url=url, files=file, cookies=cookies)\n",
    "    print(r.text)\n",
    "    # 关闭文件流\n",
    "    target_file.close()\n",
    "    # 转换返回的json\n",
    "    return json.loads(r.text)"
   ]
  },
  {
   "cell_type": "code",
   "execution_count": 5,
   "metadata": {
    "collapsed": true
   },
   "outputs": [],
   "source": [
    "# 请求API识别该图片\n",
    "def recognitionPicture(url, result_dict, cookies, docType = \"txt\"):\n",
    "    \"\"\"\n",
    "        url: 请求识别的url\n",
    "        result_dict: 上传文件回传参数字典\n",
    "        cookies: page cookie\n",
    "        docType: 识别后返回文件类型\n",
    "            txt - 文本文件\n",
    "            pdf - 可复制的PDF文档\n",
    "            rtf - mircosoft word 文档\n",
    "            xls - microsoft excel 文档\n",
    "    \"\"\"\n",
    "    # check 文件是否上传成功\n",
    "    if result_dict[\"result\"] != \"success\":\n",
    "        print(\"recognitionPicture method: the result was\" + result_dict[\"result\"])\n",
    "        raise ValueError\n",
    "        \n",
    "    headers = {\n",
    "        \"Accept\":\"application/json, text/plain, */*\",\n",
    "        \"Accept-Encoding\": \"gzip, deflate\",\n",
    "        \"Accept-Language\": \"zh-CN,zh;q=0.8,en-US;q=0.5,en;q=0.3\",\n",
    "        \"Content-Type\":\"application/json;charset=utf-8\",\n",
    "        \"Host\":\"rc.hanvon.com\",\n",
    "        \"Referer\":\"http://rc.hanvon.com/rc/rapid\",\n",
    "        \"User-Agent\":\"Mozilla/5.0 (Windows NT 6.1; WOW64; rv:49.0) Gecko/20100101 Firefox/49.0\"\n",
    "    }\n",
    "    # 填写文件请求\n",
    "    \"\"\" 之前BUG -> HTTP 415 \n",
    "        问题原因：post参数填写错误,没有将json_data填入到data\n",
    "        解决方法: 将填写在json参数的json_data改为填入到data参数中\n",
    "    \"\"\"\n",
    "    json_content = {\"fileType\":docType,\"fid\":result_dict[\"inFid\"],\"fileName\":result_dict[\"fileName\"]}\n",
    "    json_data = json.dumps(json_content)\n",
    "    # psot 识别请求\n",
    "    r = requests.post(url, headers=headers, data=json_data, cookies=cookies)\n",
    "    print(r.text)\n",
    "    return json.loads(r.text)\n",
    "    # 将返回结果转换为json"
   ]
  },
  {
   "cell_type": "code",
   "execution_count": 75,
   "metadata": {
    "collapsed": true
   },
   "outputs": [],
   "source": [
    "# 下载识别后文件\n",
    "def downloadResult(downloadFolder,result_dict, docType=\"txt\"):\n",
    "    downloadURL = r\"http://rc.hanvon.com/file/download?outFid={0}&flag=rapidRecog\".format(result_dict[\"fid\"])\n",
    "    print(downloadURL)\n",
    "    local_filename = result_dict[\"fileName\"].split(\".\")[0] + \".\" + docType\n",
    "    r = requests.get(downloadURL) # here we need to set stream = True parameter  \n",
    "    print(r.text)\n",
    "    if not os.path.exists(downloadFolder):\n",
    "        os.makedirs(downloadFolder)\n",
    "    with open(downloadFolder + local_filename, 'wb') as f:\n",
    "        # 之前错误 -> GBK 不能解码 r.text \n",
    "        # 解决方案 -> 直接写入二进制 然后以txt文件读取\n",
    "        f.write(r.content)\n",
    "    return local_filename "
   ]
  },
  {
   "cell_type": "code",
   "execution_count": 48,
   "metadata": {
    "collapsed": false
   },
   "outputs": [],
   "source": [
    "# 识别文件\n",
    "def convertPDFpicture(filePath, convertedFolder=\"results\\\\\", docType=\"txt\"):\n",
    "    # 第一步将PDF按页分解成多个图片\n",
    "    \n",
    "    # 第二步循环识别文件 并拼接到结果文档\n",
    "#     for xx in xx :\n",
    "    # 第一步：获取cookie 以便之后的操作\n",
    "    cookies = convertCookie(getCookieWithGET(targetURL))\n",
    "    # 第二步：向汉王服务器上传图片\n",
    "    result_dict = uploadFile(uploadURL, filePath, cookies)\n",
    "    # 第三步: 请求API识别该图片\n",
    "    result = recognitionPicture(recognitionURL,result_dict,cookies,docType)\n",
    "    # 第四步：下载文件\n",
    "    downloadResult(convertedFolder, result, docType)"
   ]
  },
  {
   "cell_type": "code",
   "execution_count": 76,
   "metadata": {
    "collapsed": false
   },
   "outputs": [
    {
     "name": "stdout",
     "output_type": "stream",
     "text": [
      "{\"result\":\"success\",\"inFid\":\"1lfzdrqgwspu1g\",\"fileName\":\"12.jpg\"}\n",
      "{\"result\":\"success\",\"oid\":null,\"fid\":\"d59j6yb73ef4wr\",\"fileName\":\"12.jpg\",\"errorFileName\":null,\"outType\":null,\"list\":null,\"recordCount\":0,\"fileAmount\":null,\"wordsRange\":null,\"accurateWords\":null,\"recogRate\":null,\"recogAngle\":null,\"zoom\":null,\"imgLevel\":null,\"level\":\"0\",\"price\":null,\"waitTime\":null,\"finishTime\":null,\"contactId\":null,\"fullname\":null,\"mobile\":null}\n",
      "http://rc.hanvon.com/file/download?outFid=d59j6yb73ef4wr&flag=rapidRecog\n",
      "﻿贵州省印江土家族苗族自治县人民法院\n",
      "    刑事判决书\n",
      "(2015)印刑初字第74号\n",
      "    公诉机关印江土家族苗族自治县人民检察院。\n",
      "    被告人曹明凤，女，1952年5月5日出生，居民身份证号\n",
      "码：52222619520505002X，苗族，文盲，农民，户籍所在地及居\n",
      "住地：贵州省铜仁市印江土家族苗族自治县峨岭镇长坡村杨家\n",
      "组。因涉嫌犯故意伤害罪，于20 1 5年1月22日被印江土家族苗\n",
      "族自治县公安局逮捕，同日被印江土家族苗族自治县公安局取保\n",
      "候审。\n",
      "    印江土家族苗族自治县人民检察院以印检公诉刑诉(2015]\n",
      "6 1号起诉书指控被告人曹明凤犯故意伤害罪，于20 1 5年5月12\n",
      "日向本院提起公诉。本院受理后，依法适用简易程序，实行独任\n",
      "审判，公开开庭审理了本案。印江土家族苗族自治县人民检察院\n",
      "代理检察员田辉、被告人曹明凤到庭参加了诉讼。现已审理终结。\n",
      "    经审理查明，被害人邢元强之子邢勇刚从他人手中转让取得\n",
      "的宅基地与被告人曹明凤之子吴大军的责任地相邻。20 1 3年1 1\n",
      "月期间，邢勇刚在自己的宅基地上开挖基础时，不慎将相邻的吴\n",
      "大军的土地大约四平方米左右挖垮，双方为此发生矛盾，经多次\n",
      "协调无果。20 1 3年1 1月27日下午1 6时许，邢勇刚因宅基地相\n",
      "\n"
     ]
    }
   ],
   "source": [
    "convertPDFpicture(r\"C:\\Users\\Administrator\\Desktop\\12.jpg\")"
   ]
  }
 ],
 "metadata": {
  "kernelspec": {
   "display_name": "Python 3",
   "language": "python",
   "name": "python3"
  },
  "language_info": {
   "codemirror_mode": {
    "name": "ipython",
    "version": 3
   },
   "file_extension": ".py",
   "mimetype": "text/x-python",
   "name": "python",
   "nbconvert_exporter": "python",
   "pygments_lexer": "ipython3",
   "version": "3.5.2"
  }
 },
 "nbformat": 4,
 "nbformat_minor": 1
}
